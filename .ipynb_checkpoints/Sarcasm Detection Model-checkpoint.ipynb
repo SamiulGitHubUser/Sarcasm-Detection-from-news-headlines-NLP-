{
 "cells": [
  {
   "cell_type": "markdown",
   "metadata": {},
   "source": [
    "# News headlines dataset for sarcasm detection\n",
    "\n",
    "### Link of the dataset:\n",
    "https://rishabhmisra.github.io/publications/\n",
    "\n",
    "News Headlines Dataset For Sarcasm Detection [Released: June 2018]\n",
    "\n",
    "This News Headlines dataset for Sarcasm Detection is collected from two news website. TheOnion aims at producing sarcastic versions of current events and we collected all the headlines from News in Brief and News in Photos categories (which are sarcastic). We collect real (and non-sarcastic) news headlines from HuffPost. (20000+ downloads on Kaggle)"
   ]
  },
  {
   "cell_type": "code",
   "execution_count": 101,
   "metadata": {},
   "outputs": [],
   "source": [
    "import os\n",
    "import numpy as np"
   ]
  },
  {
   "cell_type": "code",
   "execution_count": 102,
   "metadata": {},
   "outputs": [
    {
     "data": {
      "text/plain": [
       "['Sarcasm_Headlines_Dataset.json', 'Sarcasm_Headlines_Dataset_v2.json']"
      ]
     },
     "execution_count": 102,
     "metadata": {},
     "output_type": "execute_result"
    }
   ],
   "source": [
    "os.listdir('Datasets/Sarcasm Headlines')"
   ]
  },
  {
   "cell_type": "code",
   "execution_count": 103,
   "metadata": {},
   "outputs": [],
   "source": [
    "import json\n",
    "\n",
    "datastore = []\n",
    "for line in open('Datasets/Sarcasm Headlines/Sarcasm_Headlines_Dataset.json', 'r'):\n",
    "    datastore.append(json.loads(line))"
   ]
  },
  {
   "cell_type": "code",
   "execution_count": 104,
   "metadata": {},
   "outputs": [],
   "source": [
    "sentences = [] \n",
    "labels = []\n",
    "urls = []\n",
    "\n",
    "for data in datastore:\n",
    "    sentences.append(data['headline'])\n",
    "    labels.append(data['is_sarcastic'])\n",
    "    urls.append(data['article_link'])"
   ]
  },
  {
   "cell_type": "code",
   "execution_count": 105,
   "metadata": {},
   "outputs": [
    {
     "name": "stdout",
     "output_type": "stream",
     "text": [
      "Sentences\n",
      " [\"former versace store clerk sues over secret 'black code' for minority shoppers\", \"the 'roseanne' revival catches up to our thorny political mood, for better and worse\", \"mom starting to fear son's web series closest thing she will have to grandchild\", 'boehner just wants wife to listen, not come up with alternative debt-reduction ideas', 'j.k. rowling wishes snape happy birthday in the most magical way']\n",
      "\n",
      "\n",
      "labels\n",
      " [0, 0, 1, 1, 0]\n",
      "\n",
      "\n",
      "urls\n",
      " ['https://www.huffingtonpost.com/entry/versace-black-code_us_5861fbefe4b0de3a08f600d5', 'https://www.huffingtonpost.com/entry/roseanne-revival-review_us_5ab3a497e4b054d118e04365', 'https://local.theonion.com/mom-starting-to-fear-son-s-web-series-closest-thing-she-1819576697', 'https://politics.theonion.com/boehner-just-wants-wife-to-listen-not-come-up-with-alt-1819574302', 'https://www.huffingtonpost.com/entry/jk-rowling-wishes-snape-happy-birthday_us_569117c4e4b0cad15e64fdcb']\n"
     ]
    }
   ],
   "source": [
    "print(\"Sentences\\n\",sentences[:5])\n",
    "print('\\n')\n",
    "print(\"labels\\n\",labels[:5])\n",
    "print('\\n')\n",
    "print(\"urls\\n\",urls[:5])"
   ]
  },
  {
   "cell_type": "code",
   "execution_count": 106,
   "metadata": {},
   "outputs": [
    {
     "name": "stdout",
     "output_type": "stream",
     "text": [
      "26709\n",
      "26709\n"
     ]
    }
   ],
   "source": [
    "print(len(sentences))\n",
    "print(len(labels))"
   ]
  },
  {
   "cell_type": "code",
   "execution_count": 128,
   "metadata": {},
   "outputs": [],
   "source": [
    "### Set of params\n",
    "\n",
    "vocab_size = 10000\n",
    "embedding_dim = 16\n",
    "max_length = 32\n",
    "trunc_type = 'post'\n",
    "padding_type = 'post'\n",
    "oov_tok =\"<00V>\"\n",
    "training_size = 20000\n"
   ]
  },
  {
   "cell_type": "code",
   "execution_count": 108,
   "metadata": {},
   "outputs": [],
   "source": [
    "### Total 26,709 datasets\n",
    "### Keep 20,000 for Training and rest of the data for Validation/Testing\n",
    "\n",
    "training_sentences = sentences[0:training_size]\n",
    "testing_sentences = sentences[training_size:]\n",
    "\n",
    "training_labels = labels[0:training_size]\n",
    "testing_labels = labels[training_size:]"
   ]
  },
  {
   "cell_type": "code",
   "execution_count": 109,
   "metadata": {},
   "outputs": [
    {
     "name": "stdout",
     "output_type": "stream",
     "text": [
      "Training data:  20000\n",
      "Training labels:  20000\n"
     ]
    }
   ],
   "source": [
    "print(\"Training data: \",len(training_sentences))\n",
    "print(\"Training labels: \",len(training_labels))"
   ]
  },
  {
   "cell_type": "code",
   "execution_count": 110,
   "metadata": {},
   "outputs": [
    {
     "name": "stdout",
     "output_type": "stream",
     "text": [
      "Testing data:  6709\n",
      "Testing labels:  6709\n"
     ]
    }
   ],
   "source": [
    "print(\"Testing data: \", len(testing_sentences))\n",
    "print(\"Testing labels: \", len(testing_labels))"
   ]
  },
  {
   "cell_type": "markdown",
   "metadata": {},
   "source": [
    "### Apply Tokenizer and Sequences to Traing and Testing data"
   ]
  },
  {
   "cell_type": "code",
   "execution_count": 111,
   "metadata": {},
   "outputs": [],
   "source": [
    "from tensorflow.keras.preprocessing.text import Tokenizer\n",
    "from tensorflow.keras.preprocessing.sequence import pad_sequences\n",
    "\n",
    "#init the tokenizer, passing it the (num_words)number of words that want to tokenize on\n",
    "# and the desired out of vocabulary token as \"<00V>\"\n",
    "tokenizer = Tokenizer(num_words=vocab_size, oov_token=oov_tok)\n",
    "\n",
    "#Then fit that on the training set by calling fit on texts, \n",
    "#passing it the (training/any) sentences array. \n",
    "tokenizer.fit_on_texts(training_sentences)\n",
    "\n",
    "#Make word_index as dictionery\n",
    "word_index = tokenizer.word_index\n",
    "\n",
    "#use text to sequences to create the training sequence, \n",
    "# for replacing the words with their tokens(index).\n",
    "training_sequences = tokenizer.texts_to_sequences(training_sentences)\n",
    "\n",
    "#Then pad the training sequences to the desired length or truncate \n",
    "#if they're too long\n",
    "training_padded = pad_sequences(training_sequences, maxlen=max_length,\n",
    "                               padding=padding_type, truncating=trunc_type)\n",
    "\n",
    "testing_sequences = tokenizer.texts_to_sequences(testing_sentences)\n",
    "testing_padded = pad_sequences(testing_sequences, maxlen=max_length,\n",
    "                              padding=padding_type, truncating=trunc_type)"
   ]
  },
  {
   "cell_type": "code",
   "execution_count": 112,
   "metadata": {},
   "outputs": [
    {
     "data": {
      "text/plain": [
       "[[328, 1, 799, 3405, 2404, 47, 389, 2214, 1, 6, 2614, 8863],\n",
       " [4, 6840, 3096, 3097, 23, 2, 161, 1, 390, 2842, 6, 251, 9, 889],\n",
       " [153, 890, 2, 891, 1445, 2215, 595, 5650, 221, 133, 36, 45, 2, 8864],\n",
       " [1252, 38, 213, 382, 2, 1572, 29, 288, 23, 10, 2405, 1446, 5651, 958],\n",
       " [715, 672, 5652, 1043, 8865, 662, 553, 5, 4, 92, 1253, 90]]"
      ]
     },
     "execution_count": 112,
     "metadata": {},
     "output_type": "execute_result"
    }
   ],
   "source": [
    "training_sequences[:5]"
   ]
  },
  {
   "cell_type": "code",
   "execution_count": 113,
   "metadata": {},
   "outputs": [
    {
     "data": {
      "text/plain": [
       "array([[ 328,    1,  799, 3405, 2404,   47,  389, 2214,    1,    6, 2614,\n",
       "        8863,    0,    0,    0,    0,    0,    0,    0,    0,    0,    0,\n",
       "           0,    0,    0,    0,    0,    0,    0,    0,    0,    0],\n",
       "       [   4, 6840, 3096, 3097,   23,    2,  161,    1,  390, 2842,    6,\n",
       "         251,    9,  889,    0,    0,    0,    0,    0,    0,    0,    0,\n",
       "           0,    0,    0,    0,    0,    0,    0,    0,    0,    0],\n",
       "       [ 153,  890,    2,  891, 1445, 2215,  595, 5650,  221,  133,   36,\n",
       "          45,    2, 8864,    0,    0,    0,    0,    0,    0,    0,    0,\n",
       "           0,    0,    0,    0,    0,    0,    0,    0,    0,    0],\n",
       "       [1252,   38,  213,  382,    2, 1572,   29,  288,   23,   10, 2405,\n",
       "        1446, 5651,  958,    0,    0,    0,    0,    0,    0,    0,    0,\n",
       "           0,    0,    0,    0,    0,    0,    0,    0,    0,    0],\n",
       "       [ 715,  672, 5652, 1043, 8865,  662,  553,    5,    4,   92, 1253,\n",
       "          90,    0,    0,    0,    0,    0,    0,    0,    0,    0,    0,\n",
       "           0,    0,    0,    0,    0,    0,    0,    0,    0,    0]])"
      ]
     },
     "execution_count": 113,
     "metadata": {},
     "output_type": "execute_result"
    }
   ],
   "source": [
    "training_padded[:5]"
   ]
  },
  {
   "cell_type": "code",
   "execution_count": 114,
   "metadata": {},
   "outputs": [],
   "source": [
    "#word_index\n",
    "#training_sentences[:5][0]"
   ]
  },
  {
   "cell_type": "code",
   "execution_count": 115,
   "metadata": {},
   "outputs": [],
   "source": [
    "# Need this block to get it to work with TensorFlow 2.x\n",
    "import numpy as np\n",
    "training_padded = np.array(training_padded)\n",
    "training_labels = np.array(training_labels)\n",
    "testing_padded = np.array(testing_padded)\n",
    "testing_labels = np.array(testing_labels)"
   ]
  },
  {
   "cell_type": "code",
   "execution_count": 116,
   "metadata": {},
   "outputs": [],
   "source": [
    "import tensorflow as tf\n",
    "\n",
    "model = tf.keras.Sequential([\n",
    "    tf.keras.layers.Embedding(vocab_size, embedding_dim, input_length=max_length),\n",
    "    tf.keras.layers.GlobalAveragePooling1D(),\n",
    "    tf.keras.layers.Dense(24, activation='relu'),\n",
    "    tf.keras.layers.Dense(1, activation='sigmoid')\n",
    "])\n",
    "\n",
    "model.compile(loss='binary_crossentropy', optimizer='adam', metrics=['accuracy'])"
   ]
  },
  {
   "cell_type": "code",
   "execution_count": 117,
   "metadata": {
    "scrolled": false
   },
   "outputs": [
    {
     "name": "stdout",
     "output_type": "stream",
     "text": [
      "Model: \"sequential_4\"\n",
      "_________________________________________________________________\n",
      "Layer (type)                 Output Shape              Param #   \n",
      "=================================================================\n",
      "embedding_4 (Embedding)      (None, 32, 16)            160000    \n",
      "_________________________________________________________________\n",
      "global_average_pooling1d_4 ( (None, 16)                0         \n",
      "_________________________________________________________________\n",
      "dense_8 (Dense)              (None, 24)                408       \n",
      "_________________________________________________________________\n",
      "dense_9 (Dense)              (None, 1)                 25        \n",
      "=================================================================\n",
      "Total params: 160,433\n",
      "Trainable params: 160,433\n",
      "Non-trainable params: 0\n",
      "_________________________________________________________________\n"
     ]
    }
   ],
   "source": [
    "model.summary()"
   ]
  },
  {
   "cell_type": "code",
   "execution_count": 118,
   "metadata": {},
   "outputs": [
    {
     "name": "stdout",
     "output_type": "stream",
     "text": [
      "Epoch 1/30\n",
      "625/625 - 1s - loss: 0.5924 - accuracy: 0.6726 - val_loss: 0.4054 - val_accuracy: 0.8246\n",
      "Epoch 2/30\n",
      "625/625 - 1s - loss: 0.3168 - accuracy: 0.8690 - val_loss: 0.3562 - val_accuracy: 0.8439\n",
      "Epoch 3/30\n",
      "625/625 - 1s - loss: 0.2384 - accuracy: 0.9044 - val_loss: 0.3400 - val_accuracy: 0.8536\n",
      "Epoch 4/30\n",
      "625/625 - 1s - loss: 0.1921 - accuracy: 0.9253 - val_loss: 0.3550 - val_accuracy: 0.8544\n",
      "Epoch 5/30\n",
      "625/625 - 1s - loss: 0.1605 - accuracy: 0.9400 - val_loss: 0.3814 - val_accuracy: 0.8514\n",
      "Epoch 6/30\n",
      "625/625 - 1s - loss: 0.1359 - accuracy: 0.9505 - val_loss: 0.4191 - val_accuracy: 0.8435\n",
      "Epoch 7/30\n",
      "625/625 - 1s - loss: 0.1156 - accuracy: 0.9593 - val_loss: 0.4469 - val_accuracy: 0.8457\n",
      "Epoch 8/30\n",
      "625/625 - 1s - loss: 0.1001 - accuracy: 0.9675 - val_loss: 0.5022 - val_accuracy: 0.8402\n",
      "Epoch 9/30\n",
      "625/625 - 1s - loss: 0.0865 - accuracy: 0.9717 - val_loss: 0.5398 - val_accuracy: 0.8317\n",
      "Epoch 10/30\n",
      "625/625 - 1s - loss: 0.0753 - accuracy: 0.9766 - val_loss: 0.5777 - val_accuracy: 0.8387\n",
      "Epoch 11/30\n",
      "625/625 - 1s - loss: 0.0649 - accuracy: 0.9804 - val_loss: 0.6233 - val_accuracy: 0.8344\n",
      "Epoch 12/30\n",
      "625/625 - 1s - loss: 0.0560 - accuracy: 0.9837 - val_loss: 0.6774 - val_accuracy: 0.8290\n",
      "Epoch 13/30\n",
      "625/625 - 1s - loss: 0.0491 - accuracy: 0.9865 - val_loss: 0.7210 - val_accuracy: 0.8283\n",
      "Epoch 14/30\n",
      "625/625 - 1s - loss: 0.0436 - accuracy: 0.9876 - val_loss: 0.7703 - val_accuracy: 0.8219\n",
      "Epoch 15/30\n",
      "625/625 - 1s - loss: 0.0388 - accuracy: 0.9892 - val_loss: 0.8257 - val_accuracy: 0.8246\n",
      "Epoch 16/30\n",
      "625/625 - 1s - loss: 0.0360 - accuracy: 0.9898 - val_loss: 0.8968 - val_accuracy: 0.8222\n",
      "Epoch 17/30\n",
      "625/625 - 1s - loss: 0.0305 - accuracy: 0.9913 - val_loss: 0.9656 - val_accuracy: 0.8171\n",
      "Epoch 18/30\n",
      "625/625 - 1s - loss: 0.0276 - accuracy: 0.9927 - val_loss: 0.9755 - val_accuracy: 0.8173\n",
      "Epoch 19/30\n",
      "625/625 - 1s - loss: 0.0241 - accuracy: 0.9941 - val_loss: 1.0227 - val_accuracy: 0.8120\n",
      "Epoch 20/30\n",
      "625/625 - 1s - loss: 0.0230 - accuracy: 0.9930 - val_loss: 1.1069 - val_accuracy: 0.8134\n",
      "Epoch 21/30\n",
      "625/625 - 1s - loss: 0.0195 - accuracy: 0.9948 - val_loss: 1.1926 - val_accuracy: 0.8122\n",
      "Epoch 22/30\n",
      "625/625 - 1s - loss: 0.0161 - accuracy: 0.9964 - val_loss: 1.2087 - val_accuracy: 0.8074\n",
      "Epoch 23/30\n",
      "625/625 - 1s - loss: 0.0162 - accuracy: 0.9954 - val_loss: 1.2691 - val_accuracy: 0.8052\n",
      "Epoch 24/30\n",
      "625/625 - 1s - loss: 0.0144 - accuracy: 0.9956 - val_loss: 1.3345 - val_accuracy: 0.8032\n",
      "Epoch 25/30\n",
      "625/625 - 1s - loss: 0.0129 - accuracy: 0.9966 - val_loss: 1.4063 - val_accuracy: 0.8061\n",
      "Epoch 26/30\n",
      "625/625 - 1s - loss: 0.0110 - accuracy: 0.9969 - val_loss: 1.5011 - val_accuracy: 0.8046\n",
      "Epoch 27/30\n",
      "625/625 - 1s - loss: 0.0097 - accuracy: 0.9973 - val_loss: 1.4988 - val_accuracy: 0.8024\n",
      "Epoch 28/30\n",
      "625/625 - 1s - loss: 0.0099 - accuracy: 0.9966 - val_loss: 1.5632 - val_accuracy: 0.8028\n",
      "Epoch 29/30\n",
      "625/625 - 1s - loss: 0.0087 - accuracy: 0.9973 - val_loss: 1.6535 - val_accuracy: 0.8016\n",
      "Epoch 30/30\n",
      "625/625 - 1s - loss: 0.0081 - accuracy: 0.9977 - val_loss: 1.6775 - val_accuracy: 0.7970\n"
     ]
    }
   ],
   "source": [
    "num_epochs = 30\n",
    "\n",
    "history = model.fit(training_padded, training_labels, epochs=num_epochs,\n",
    "                   validation_data=(testing_padded, testing_labels), verbose=2)"
   ]
  },
  {
   "cell_type": "code",
   "execution_count": 125,
   "metadata": {},
   "outputs": [
    {
     "data": {
      "text/html": [
       "<div>\n",
       "<style scoped>\n",
       "    .dataframe tbody tr th:only-of-type {\n",
       "        vertical-align: middle;\n",
       "    }\n",
       "\n",
       "    .dataframe tbody tr th {\n",
       "        vertical-align: top;\n",
       "    }\n",
       "\n",
       "    .dataframe thead th {\n",
       "        text-align: right;\n",
       "    }\n",
       "</style>\n",
       "<table border=\"1\" class=\"dataframe\">\n",
       "  <thead>\n",
       "    <tr style=\"text-align: right;\">\n",
       "      <th></th>\n",
       "      <th>loss</th>\n",
       "      <th>accuracy</th>\n",
       "      <th>val_loss</th>\n",
       "      <th>val_accuracy</th>\n",
       "    </tr>\n",
       "  </thead>\n",
       "  <tbody>\n",
       "    <tr>\n",
       "      <th>0</th>\n",
       "      <td>0.592437</td>\n",
       "      <td>0.67260</td>\n",
       "      <td>0.405446</td>\n",
       "      <td>0.824564</td>\n",
       "    </tr>\n",
       "    <tr>\n",
       "      <th>1</th>\n",
       "      <td>0.316787</td>\n",
       "      <td>0.86900</td>\n",
       "      <td>0.356221</td>\n",
       "      <td>0.843941</td>\n",
       "    </tr>\n",
       "    <tr>\n",
       "      <th>2</th>\n",
       "      <td>0.238421</td>\n",
       "      <td>0.90445</td>\n",
       "      <td>0.339998</td>\n",
       "      <td>0.853629</td>\n",
       "    </tr>\n",
       "    <tr>\n",
       "      <th>3</th>\n",
       "      <td>0.192132</td>\n",
       "      <td>0.92530</td>\n",
       "      <td>0.354967</td>\n",
       "      <td>0.854375</td>\n",
       "    </tr>\n",
       "    <tr>\n",
       "      <th>4</th>\n",
       "      <td>0.160498</td>\n",
       "      <td>0.94000</td>\n",
       "      <td>0.381433</td>\n",
       "      <td>0.851394</td>\n",
       "    </tr>\n",
       "  </tbody>\n",
       "</table>\n",
       "</div>"
      ],
      "text/plain": [
       "       loss  accuracy  val_loss  val_accuracy\n",
       "0  0.592437   0.67260  0.405446      0.824564\n",
       "1  0.316787   0.86900  0.356221      0.843941\n",
       "2  0.238421   0.90445  0.339998      0.853629\n",
       "3  0.192132   0.92530  0.354967      0.854375\n",
       "4  0.160498   0.94000  0.381433      0.851394"
      ]
     },
     "execution_count": 125,
     "metadata": {},
     "output_type": "execute_result"
    }
   ],
   "source": [
    "import pandas as pd\n",
    "\n",
    "model_loss = pd.DataFrame(history.history)\n",
    "model_loss.head()"
   ]
  },
  {
   "cell_type": "code",
   "execution_count": 126,
   "metadata": {},
   "outputs": [
    {
     "data": {
      "text/plain": [
       "<AxesSubplot:>"
      ]
     },
     "execution_count": 126,
     "metadata": {},
     "output_type": "execute_result"
    },
    {
     "data": {
      "image/png": "[encoded data removed]",
      "text/plain": [
       "<Figure size 432x288 with 1 Axes>"
      ]
     },
     "metadata": {
      "needs_background": "light"
     },
     "output_type": "display_data"
    }
   ],
   "source": [
    "model_loss[[\"accuracy\",\"val_accuracy\"]].plot()"
   ]
  },
  {
   "cell_type": "code",
   "execution_count": 127,
   "metadata": {},
   "outputs": [
    {
     "data": {
      "text/plain": [
       "<AxesSubplot:>"
      ]
     },
     "execution_count": 127,
     "metadata": {},
     "output_type": "execute_result"
    },
    {
     "data": {
      "image/png": "[encoded data removed]",
      "text/plain": [
       "<Figure size 432x288 with 1 Axes>"
      ]
     },
     "metadata": {
      "needs_background": "light"
     },
     "output_type": "display_data"
    }
   ],
   "source": [
    "model_loss[[\"loss\",\"val_loss\"]].plot()"
   ]
  },
  {
   "cell_type": "markdown",
   "metadata": {},
   "source": [
    "**Here's the code for simple plot. We can see accuracy increase nicely as we trained and the validation accuracy was okay, but not great. What's interesting is the loss values on the right, the training loss fall, but the validation loss increased.**\n",
    "\n",
    "### Well, why might that be?"
   ]
  },
  {
   "cell_type": "markdown",
   "metadata": {},
   "source": [
    "## Explanation of the problem  \n",
    "\n",
    "Think about loss in this context, as a confidence in the prediction. So while the number of accurate predictions increased over time, what was interesting was that the confidence per prediction effectively decreased. You may find this happening a lot with text data. So it's very important to keep an eye on it. One way to do this is to explore the differences as you tweak the hyperparameters."
   ]
  },
  {
   "cell_type": "markdown",
   "metadata": {},
   "source": [
    "## Solution\n",
    "\n",
    "if we consider these changes, \n",
    " * a decrease in vocabulary size, and \n",
    " * taking shorter sentences, \n",
    " * reducing the likelihood of padding, and then rerun, \n",
    " \n",
    "**Previous set of params**\n",
    "\n",
    "vocab_size = 10000 <br>\n",
    "embedding_dim = 16 <br>\n",
    "max_length = 32 <br>\n",
    "trunc_type = 'post' <br>\n",
    "padding_type = 'post' <br>\n",
    "oov_tok =\"<00V>\" <br>\n",
    "training_size = 20000 <br>"
   ]
  },
  {
   "cell_type": "markdown",
   "metadata": {},
   "source": [
    "### Set a new set of params"
   ]
  },
  {
   "cell_type": "code",
   "execution_count": 129,
   "metadata": {},
   "outputs": [],
   "source": [
    "vocab_size = 1000 #(was 10,000) \n",
    "embedding_dim = 16 \n",
    "max_length = 16 #(was 32)\n",
    "trunc_type = 'post'\n",
    "padding_type = 'post' \n",
    "oov_tok =\"<00V>\" \n",
    "training_size = 20000 "
   ]
  },
  {
   "cell_type": "code",
   "execution_count": 130,
   "metadata": {},
   "outputs": [],
   "source": [
    "tokenizer = Tokenizer(num_words=vocab_size, oov_token=oov_tok)\n",
    "tokenizer.fit_on_texts(training_sentences)\n",
    "\n",
    "word_index = tokenizer.word_index\n",
    "\n",
    "training_sequences = tokenizer.texts_to_sequences(training_sentences)\n",
    "training_padded = pad_sequences(training_sequences, maxlen=max_length, padding=padding_type, truncating=trunc_type)\n",
    "\n",
    "testing_sequences = tokenizer.texts_to_sequences(testing_sentences)\n",
    "testing_padded = pad_sequences(testing_sequences, maxlen=max_length, padding=padding_type, truncating=trunc_type)"
   ]
  },
  {
   "cell_type": "code",
   "execution_count": 132,
   "metadata": {},
   "outputs": [],
   "source": [
    "# Need this block to get it to work with TensorFlow 2.x\n",
    "\n",
    "training_padded = np.array(training_padded)\n",
    "training_labels = np.array(training_labels)\n",
    "testing_padded = np.array(testing_padded)\n",
    "testing_labels = np.array(testing_labels)"
   ]
  },
  {
   "cell_type": "code",
   "execution_count": 137,
   "metadata": {},
   "outputs": [],
   "source": [
    "new_model = tf.keras.Sequential([\n",
    "    tf.keras.layers.Embedding(vocab_size, embedding_dim, input_length=max_length),\n",
    "    tf.keras.layers.GlobalAveragePooling1D(),\n",
    "    tf.keras.layers.Dense(24, activation='relu'),\n",
    "    tf.keras.layers.Dense(1, activation='sigmoid')\n",
    "])\n",
    "new_model.compile(loss='binary_crossentropy',optimizer='adam',metrics=['accuracy'])"
   ]
  },
  {
   "cell_type": "code",
   "execution_count": 138,
   "metadata": {},
   "outputs": [
    {
     "name": "stdout",
     "output_type": "stream",
     "text": [
      "Model: \"sequential_7\"\n",
      "_________________________________________________________________\n",
      "Layer (type)                 Output Shape              Param #   \n",
      "=================================================================\n",
      "embedding_7 (Embedding)      (None, 16, 16)            16000     \n",
      "_________________________________________________________________\n",
      "global_average_pooling1d_7 ( (None, 16)                0         \n",
      "_________________________________________________________________\n",
      "dense_14 (Dense)             (None, 24)                408       \n",
      "_________________________________________________________________\n",
      "dense_15 (Dense)             (None, 1)                 25        \n",
      "=================================================================\n",
      "Total params: 16,433\n",
      "Trainable params: 16,433\n",
      "Non-trainable params: 0\n",
      "_________________________________________________________________\n"
     ]
    }
   ],
   "source": [
    "new_model.summary()"
   ]
  },
  {
   "cell_type": "code",
   "execution_count": 139,
   "metadata": {},
   "outputs": [
    {
     "name": "stdout",
     "output_type": "stream",
     "text": [
      "Epoch 1/30\n",
      "625/625 - 1s - loss: 0.5409 - accuracy: 0.7189 - val_loss: 0.4142 - val_accuracy: 0.8059\n",
      "Epoch 2/30\n",
      "625/625 - 1s - loss: 0.3812 - accuracy: 0.8257 - val_loss: 0.3978 - val_accuracy: 0.8150\n",
      "Epoch 3/30\n",
      "625/625 - 1s - loss: 0.3633 - accuracy: 0.8357 - val_loss: 0.3989 - val_accuracy: 0.8150\n",
      "Epoch 4/30\n",
      "625/625 - 1s - loss: 0.3578 - accuracy: 0.8371 - val_loss: 0.4010 - val_accuracy: 0.8138\n",
      "Epoch 5/30\n",
      "625/625 - 1s - loss: 0.3545 - accuracy: 0.8387 - val_loss: 0.4049 - val_accuracy: 0.8107\n",
      "Epoch 6/30\n",
      "625/625 - 0s - loss: 0.3531 - accuracy: 0.8395 - val_loss: 0.4035 - val_accuracy: 0.8141\n",
      "Epoch 7/30\n",
      "625/625 - 1s - loss: 0.3516 - accuracy: 0.8398 - val_loss: 0.4115 - val_accuracy: 0.8091\n",
      "Epoch 8/30\n",
      "625/625 - 1s - loss: 0.3506 - accuracy: 0.8411 - val_loss: 0.4063 - val_accuracy: 0.8110\n",
      "Epoch 9/30\n",
      "625/625 - 1s - loss: 0.3495 - accuracy: 0.8421 - val_loss: 0.4058 - val_accuracy: 0.8129\n",
      "Epoch 10/30\n",
      "625/625 - 1s - loss: 0.3495 - accuracy: 0.8403 - val_loss: 0.4067 - val_accuracy: 0.8126\n",
      "Epoch 11/30\n",
      "625/625 - 1s - loss: 0.3476 - accuracy: 0.8428 - val_loss: 0.4048 - val_accuracy: 0.8117\n",
      "Epoch 12/30\n",
      "625/625 - 1s - loss: 0.3464 - accuracy: 0.8424 - val_loss: 0.4033 - val_accuracy: 0.8116\n",
      "Epoch 13/30\n",
      "625/625 - 1s - loss: 0.3448 - accuracy: 0.8422 - val_loss: 0.4017 - val_accuracy: 0.8137\n",
      "Epoch 14/30\n",
      "625/625 - 1s - loss: 0.3413 - accuracy: 0.8425 - val_loss: 0.4011 - val_accuracy: 0.8165\n",
      "Epoch 15/30\n",
      "625/625 - 1s - loss: 0.3384 - accuracy: 0.8447 - val_loss: 0.4022 - val_accuracy: 0.8119\n",
      "Epoch 16/30\n",
      "625/625 - 1s - loss: 0.3360 - accuracy: 0.8481 - val_loss: 0.3965 - val_accuracy: 0.8202\n",
      "Epoch 17/30\n",
      "625/625 - 1s - loss: 0.3334 - accuracy: 0.8501 - val_loss: 0.3950 - val_accuracy: 0.8189\n",
      "Epoch 18/30\n",
      "625/625 - 1s - loss: 0.3303 - accuracy: 0.8522 - val_loss: 0.3955 - val_accuracy: 0.8199\n",
      "Epoch 19/30\n",
      "625/625 - 0s - loss: 0.3294 - accuracy: 0.8526 - val_loss: 0.3947 - val_accuracy: 0.8207\n",
      "Epoch 20/30\n",
      "625/625 - 0s - loss: 0.3260 - accuracy: 0.8533 - val_loss: 0.3964 - val_accuracy: 0.8196\n",
      "Epoch 21/30\n",
      "625/625 - 0s - loss: 0.3237 - accuracy: 0.8558 - val_loss: 0.3961 - val_accuracy: 0.8210\n",
      "Epoch 22/30\n",
      "625/625 - 0s - loss: 0.3221 - accuracy: 0.8565 - val_loss: 0.3951 - val_accuracy: 0.8225\n",
      "Epoch 23/30\n",
      "625/625 - 1s - loss: 0.3201 - accuracy: 0.8580 - val_loss: 0.3961 - val_accuracy: 0.8214\n",
      "Epoch 24/30\n",
      "625/625 - 0s - loss: 0.3185 - accuracy: 0.8575 - val_loss: 0.4002 - val_accuracy: 0.8202\n",
      "Epoch 25/30\n",
      "625/625 - 0s - loss: 0.3166 - accuracy: 0.8597 - val_loss: 0.3971 - val_accuracy: 0.8190\n",
      "Epoch 26/30\n",
      "625/625 - 0s - loss: 0.3143 - accuracy: 0.8605 - val_loss: 0.3995 - val_accuracy: 0.8188\n",
      "Epoch 27/30\n",
      "625/625 - 0s - loss: 0.3129 - accuracy: 0.8612 - val_loss: 0.4011 - val_accuracy: 0.8195\n",
      "Epoch 28/30\n",
      "625/625 - 0s - loss: 0.3116 - accuracy: 0.8625 - val_loss: 0.4070 - val_accuracy: 0.8173\n",
      "Epoch 29/30\n",
      "625/625 - 1s - loss: 0.3102 - accuracy: 0.8641 - val_loss: 0.4037 - val_accuracy: 0.8207\n",
      "Epoch 30/30\n",
      "625/625 - 1s - loss: 0.3081 - accuracy: 0.8632 - val_loss: 0.4092 - val_accuracy: 0.8161\n"
     ]
    }
   ],
   "source": [
    "num_epochs = 30\n",
    "history = new_model.fit(training_padded, training_labels, epochs=num_epochs, validation_data=(testing_padded, testing_labels), verbose=2)"
   ]
  },
  {
   "cell_type": "code",
   "execution_count": 140,
   "metadata": {},
   "outputs": [],
   "source": [
    "new_model_loss = pd.DataFrame(history.history)"
   ]
  },
  {
   "cell_type": "code",
   "execution_count": 141,
   "metadata": {},
   "outputs": [
    {
     "data": {
      "text/plain": [
       "<AxesSubplot:>"
      ]
     },
     "execution_count": 141,
     "metadata": {},
     "output_type": "execute_result"
    },
    {
     "data": {
      "image/png": "[encoded data removed]",
      "text/plain": [
       "<Figure size 432x288 with 1 Axes>"
      ]
     },
     "metadata": {
      "needs_background": "light"
     },
     "output_type": "display_data"
    }
   ],
   "source": [
    "new_model_loss[[\"accuracy\",\"val_accuracy\"]].plot()"
   ]
  },
  {
   "cell_type": "code",
   "execution_count": 142,
   "metadata": {},
   "outputs": [
    {
     "data": {
      "text/plain": [
       "<AxesSubplot:>"
      ]
     },
     "execution_count": 142,
     "metadata": {},
     "output_type": "execute_result"
    },
    {
     "data": {
      "image/png": "[encoded data removed]",
      "text/plain": [
       "<Figure size 432x288 with 1 Axes>"
      ]
     },
     "metadata": {
      "needs_background": "light"
     },
     "output_type": "display_data"
    }
   ],
   "source": [
    "new_model_loss[[\"loss\",\"val_loss\"]].plot()"
   ]
  },
  {
   "cell_type": "markdown",
   "metadata": {},
   "source": [
    "**Here, we can see that the loss has flattened out which looks good, but of course, the accuracy is not as high.**\n",
    "<br>\n",
    "Another tweak. Changing the number of dimensions using the embedding was also tried. Here, we can see that that had very little difference. "
   ]
  },
  {
   "cell_type": "markdown",
   "metadata": {},
   "source": [
    "**Increase the \"embedding_dim = 32\" instead of 16** <br>\n",
    "That also have very little difference in accuracy it cab be increased."
   ]
  },
  {
   "cell_type": "markdown",
   "metadata": {},
   "source": [
    "Keep working on them and see if there can find any combinations that give a 90 percent plus training accuracy without a cost of the lost function increasing sharply. \n",
    "\n",
    "**Next we will look at impact of splitting our words into sub-tokens and how that might impact the training.**"
   ]
  },
  {
   "cell_type": "markdown",
   "metadata": {},
   "source": [
    "## Make & download 'vecs.tsv' and 'meta.tsv' for testing in\n",
    "<br>\n",
    "### Go to https://projector.tensorflow.org/\n",
    "    \n",
    "**Load 'vecs.tsv' and 'meta.tsv'**"
   ]
  },
  {
   "cell_type": "code",
   "execution_count": 153,
   "metadata": {},
   "outputs": [
    {
     "name": "stdout",
     "output_type": "stream",
     "text": [
      "former <00V> store <00V> <00V> over secret <00V> <00V> for <00V> <00V> ? ? ? ?\n",
      "mom starting to fear son's web series closest thing she will have to grandchild\n",
      "1\n"
     ]
    }
   ],
   "source": [
    "reverse_word_index = dict([(value, key) for (key, value) in word_index.items()])\n",
    "\n",
    "def decode_sentence(text):\n",
    "    return ' '.join([reverse_word_index.get(i, '?') for i in text])\n",
    "\n",
    "print(decode_sentence(training_padded[0]))\n",
    "print(training_sentences[2])\n",
    "print(labels[2])"
   ]
  },
  {
   "cell_type": "code",
   "execution_count": 154,
   "metadata": {},
   "outputs": [
    {
     "name": "stdout",
     "output_type": "stream",
     "text": [
      "(10000, 16)\n"
     ]
    }
   ],
   "source": [
    "e = model.layers[0]\n",
    "weights = e.get_weights()[0]\n",
    "print(weights.shape) # shape: (vocab_size, embedding_dim)\n"
   ]
  },
  {
   "cell_type": "code",
   "execution_count": 155,
   "metadata": {},
   "outputs": [],
   "source": [
    "import io\n",
    "\n",
    "out_v = io.open('vecs.tsv', 'w', encoding='utf-8')\n",
    "out_m = io.open('meta.tsv', 'w', encoding='utf-8')\n",
    "for word_num in range(1, vocab_size):\n",
    "    word = reverse_word_index[word_num]\n",
    "    embeddings = weights[word_num]\n",
    "    out_m.write(word + \"\\n\")\n",
    "    out_v.write('\\t'.join([str(x) for x in embeddings]) + \"\\n\")\n",
    "out_v.close()\n",
    "out_m.close()"
   ]
  },
  {
   "cell_type": "code",
   "execution_count": 156,
   "metadata": {},
   "outputs": [],
   "source": [
    "try:\n",
    "    from google.colab import files\n",
    "except ImportError:\n",
    "    pass\n",
    "else:\n",
    "    files.download('vecs.tsv')\n",
    "    files.download('meta.tsv')"
   ]
  },
  {
   "cell_type": "code",
   "execution_count": 159,
   "metadata": {},
   "outputs": [
    {
     "name": "stdout",
     "output_type": "stream",
     "text": [
      "[[0.00213844]\n",
      " [0.9716433 ]]\n"
     ]
    }
   ],
   "source": [
    "sentence = [\"granny starting to fear spiders in the garden might be real\", \"game of thrones season finale showing this sunday night\"]\n",
    "sequences = tokenizer.texts_to_sequences(sentence)\n",
    "padded = pad_sequences(sequences, maxlen=32, padding=padding_type, truncating=trunc_type) #maxlen=32 for first model\n",
    "print(model.predict(padded))"
   ]
  },
  {
   "cell_type": "code",
   "execution_count": 163,
   "metadata": {},
   "outputs": [
    {
     "data": {
      "text/plain": [
       "1"
      ]
     },
     "execution_count": 163,
     "metadata": {},
     "output_type": "execute_result"
    }
   ],
   "source": [
    "np.argmax(model.predict(padded))"
   ]
  },
  {
   "cell_type": "code",
   "execution_count": 164,
   "metadata": {},
   "outputs": [],
   "source": [
    "#Max length is 32\n",
    "model.save('model.h5')"
   ]
  },
  {
   "cell_type": "code",
   "execution_count": 165,
   "metadata": {},
   "outputs": [],
   "source": [
    "#Max length is 16\n",
    "new_model.save('new_model.h5')"
   ]
  },
  {
   "cell_type": "markdown",
   "metadata": {},
   "source": [
    "!Happy Coding"
   ]
  }
 ],
 "metadata": {
  "kernelspec": {
   "display_name": "Python 3",
   "language": "python",
   "name": "python3"
  },
  "language_info": {
   "codemirror_mode": {
    "name": "ipython",
    "version": 3
   },
   "file_extension": ".py",
   "mimetype": "text/x-python",
   "name": "python",
   "nbconvert_exporter": "python",
   "pygments_lexer": "ipython3",
   "version": "3.7.6"
  }
 },
 "nbformat": 4,
 "nbformat_minor": 4
}
